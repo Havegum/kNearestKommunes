{
 "cells": [
  {
   "cell_type": "code",
   "execution_count": 187,
   "metadata": {},
   "outputs": [],
   "source": [
    "import pandas as pd\n",
    "import numpy as np\n",
    "import matplotlib.pyplot as plt\n",
    "\n",
    "from sklearn.decomposition import PCA\n",
    "from sklearn.neighbors import NearestNeighbors\n",
    "from sklearn.preprocessing import scale as StandardScale\n",
    "\n",
    "%matplotlib inline"
   ]
  },
  {
   "cell_type": "code",
   "execution_count": 115,
   "metadata": {},
   "outputs": [
    {
     "data": {
      "text/html": [
       "<div>\n",
       "<style scoped>\n",
       "    .dataframe tbody tr th:only-of-type {\n",
       "        vertical-align: middle;\n",
       "    }\n",
       "\n",
       "    .dataframe tbody tr th {\n",
       "        vertical-align: top;\n",
       "    }\n",
       "\n",
       "    .dataframe thead th {\n",
       "        text-align: right;\n",
       "    }\n",
       "</style>\n",
       "<table border=\"1\" class=\"dataframe\">\n",
       "  <thead>\n",
       "    <tr style=\"text-align: right;\">\n",
       "      <th></th>\n",
       "      <th>2019</th>\n",
       "      <th>vekst</th>\n",
       "      <th>name</th>\n",
       "    </tr>\n",
       "    <tr>\n",
       "      <th>id</th>\n",
       "      <th></th>\n",
       "      <th></th>\n",
       "      <th></th>\n",
       "    </tr>\n",
       "  </thead>\n",
       "  <tbody>\n",
       "    <tr>\n",
       "      <th>1439</th>\n",
       "      <td>5970.0</td>\n",
       "      <td>-0.5</td>\n",
       "      <td>Vågsøy</td>\n",
       "    </tr>\n",
       "    <tr>\n",
       "      <th>0128</th>\n",
       "      <td>8230.0</td>\n",
       "      <td>0.3</td>\n",
       "      <td>Rakkestad</td>\n",
       "    </tr>\n",
       "    <tr>\n",
       "      <th>1101</th>\n",
       "      <td>14830.0</td>\n",
       "      <td>-0.5</td>\n",
       "      <td>Eigersund</td>\n",
       "    </tr>\n",
       "    <tr>\n",
       "      <th>1529</th>\n",
       "      <td>4764.0</td>\n",
       "      <td>1.8</td>\n",
       "      <td>Skodje</td>\n",
       "    </tr>\n",
       "    <tr>\n",
       "      <th>1112</th>\n",
       "      <td>3213.0</td>\n",
       "      <td>-0.7</td>\n",
       "      <td>Lund</td>\n",
       "    </tr>\n",
       "  </tbody>\n",
       "</table>\n",
       "</div>"
      ],
      "text/plain": [
       "         2019  vekst       name\n",
       "id                             \n",
       "1439   5970.0   -0.5     Vågsøy\n",
       "0128   8230.0    0.3  Rakkestad\n",
       "1101  14830.0   -0.5  Eigersund\n",
       "1529   4764.0    1.8     Skodje\n",
       "1112   3213.0   -0.7       Lund"
      ]
     },
     "execution_count": 115,
     "metadata": {},
     "output_type": "execute_result"
    }
   ],
   "source": [
    "# Download csv from https://www.ssb.no/befolkning/statistikker/folkemengde/aar-per-1-januar\n",
    "\n",
    "kommunetall = pd.read_csv('befolkning.csv', sep=';')\n",
    "kommunetall.drop(columns=['Unnamed: 4', '2018'], inplace=True)\n",
    "kommunetall.drop(2, inplace=True)\n",
    "kommunetall.dropna(inplace=True)\n",
    "\n",
    "kommunetall['vekst'] = kommunetall['Folketilvekst i prosent'].str.replace(',', '.')\n",
    "kommunetall['vekst'] = kommunetall['vekst'].astype(float)\n",
    "kommunetall.drop(columns='Folketilvekst i prosent', inplace=True)\n",
    "\n",
    "\n",
    "komnumm = kommunetall['Unnamed: 0'].str.split(' ', n=1, expand=True)\n",
    "komnumm.columns = ['id', 'name']\n",
    "\n",
    "kommunetall['id'] = komnumm['id']\n",
    "kommunetall['name'] = komnumm['name']\n",
    "\n",
    "kommunetall.drop('Unnamed: 0', axis=1, inplace=True)\n",
    "kommunetall = kommunetall[kommunetall['id'].str.len() > 2] # Filter kun kommuner\n",
    "kommunetall.set_index('id', inplace=True)\n",
    "kommunetall.sample(5)"
   ]
  },
  {
   "cell_type": "code",
   "execution_count": 378,
   "metadata": {},
   "outputs": [
    {
     "data": {
      "text/html": [
       "<div>\n",
       "<style scoped>\n",
       "    .dataframe tbody tr th:only-of-type {\n",
       "        vertical-align: middle;\n",
       "    }\n",
       "\n",
       "    .dataframe tbody tr th {\n",
       "        vertical-align: top;\n",
       "    }\n",
       "\n",
       "    .dataframe thead th {\n",
       "        text-align: right;\n",
       "    }\n",
       "</style>\n",
       "<table border=\"1\" class=\"dataframe\">\n",
       "  <thead>\n",
       "    <tr style=\"text-align: right;\">\n",
       "      <th></th>\n",
       "      <th>0-9</th>\n",
       "      <th>10-19</th>\n",
       "      <th>20-29</th>\n",
       "      <th>30-39</th>\n",
       "      <th>40-49</th>\n",
       "      <th>50-59</th>\n",
       "      <th>60-69</th>\n",
       "      <th>70-79</th>\n",
       "      <th>80-89</th>\n",
       "      <th>90-99</th>\n",
       "      <th>100+</th>\n",
       "      <th>id</th>\n",
       "      <th>name</th>\n",
       "    </tr>\n",
       "  </thead>\n",
       "  <tbody>\n",
       "    <tr>\n",
       "      <th>0</th>\n",
       "      <td>0.103313</td>\n",
       "      <td>0.119768</td>\n",
       "      <td>0.126600</td>\n",
       "      <td>0.115534</td>\n",
       "      <td>0.133624</td>\n",
       "      <td>0.138500</td>\n",
       "      <td>0.120858</td>\n",
       "      <td>0.093563</td>\n",
       "      <td>0.038586</td>\n",
       "      <td>0.009526</td>\n",
       "      <td>0.000128</td>\n",
       "      <td>0101</td>\n",
       "      <td>Halden</td>\n",
       "    </tr>\n",
       "    <tr>\n",
       "      <th>1</th>\n",
       "      <td>0.106001</td>\n",
       "      <td>0.118438</td>\n",
       "      <td>0.110738</td>\n",
       "      <td>0.120607</td>\n",
       "      <td>0.143067</td>\n",
       "      <td>0.142272</td>\n",
       "      <td>0.115107</td>\n",
       "      <td>0.095826</td>\n",
       "      <td>0.039143</td>\n",
       "      <td>0.008678</td>\n",
       "      <td>0.000122</td>\n",
       "      <td>0104</td>\n",
       "      <td>Moss</td>\n",
       "    </tr>\n",
       "    <tr>\n",
       "      <th>2</th>\n",
       "      <td>0.112560</td>\n",
       "      <td>0.123417</td>\n",
       "      <td>0.119256</td>\n",
       "      <td>0.123935</td>\n",
       "      <td>0.140454</td>\n",
       "      <td>0.133596</td>\n",
       "      <td>0.112202</td>\n",
       "      <td>0.088737</td>\n",
       "      <td>0.037609</td>\n",
       "      <td>0.008143</td>\n",
       "      <td>0.000089</td>\n",
       "      <td>0105</td>\n",
       "      <td>Sarpsborg</td>\n",
       "    </tr>\n",
       "    <tr>\n",
       "      <th>3</th>\n",
       "      <td>0.106577</td>\n",
       "      <td>0.122157</td>\n",
       "      <td>0.124688</td>\n",
       "      <td>0.117351</td>\n",
       "      <td>0.139057</td>\n",
       "      <td>0.141687</td>\n",
       "      <td>0.117179</td>\n",
       "      <td>0.085800</td>\n",
       "      <td>0.038045</td>\n",
       "      <td>0.007350</td>\n",
       "      <td>0.000110</td>\n",
       "      <td>0106</td>\n",
       "      <td>Fredrikstad</td>\n",
       "    </tr>\n",
       "    <tr>\n",
       "      <th>4</th>\n",
       "      <td>0.078713</td>\n",
       "      <td>0.110241</td>\n",
       "      <td>0.079583</td>\n",
       "      <td>0.084801</td>\n",
       "      <td>0.126984</td>\n",
       "      <td>0.156338</td>\n",
       "      <td>0.190041</td>\n",
       "      <td>0.127419</td>\n",
       "      <td>0.037399</td>\n",
       "      <td>0.008263</td>\n",
       "      <td>0.000217</td>\n",
       "      <td>0111</td>\n",
       "      <td>Hvaler</td>\n",
       "    </tr>\n",
       "  </tbody>\n",
       "</table>\n",
       "</div>"
      ],
      "text/plain": [
       "        0-9     10-19     20-29     30-39     40-49     50-59     60-69  \\\n",
       "0  0.103313  0.119768  0.126600  0.115534  0.133624  0.138500  0.120858   \n",
       "1  0.106001  0.118438  0.110738  0.120607  0.143067  0.142272  0.115107   \n",
       "2  0.112560  0.123417  0.119256  0.123935  0.140454  0.133596  0.112202   \n",
       "3  0.106577  0.122157  0.124688  0.117351  0.139057  0.141687  0.117179   \n",
       "4  0.078713  0.110241  0.079583  0.084801  0.126984  0.156338  0.190041   \n",
       "\n",
       "      70-79     80-89     90-99      100+    id         name  \n",
       "0  0.093563  0.038586  0.009526  0.000128  0101       Halden  \n",
       "1  0.095826  0.039143  0.008678  0.000122  0104         Moss  \n",
       "2  0.088737  0.037609  0.008143  0.000089  0105    Sarpsborg  \n",
       "3  0.085800  0.038045  0.007350  0.000110  0106  Fredrikstad  \n",
       "4  0.127419  0.037399  0.008263  0.000217  0111       Hvaler  "
      ]
     },
     "execution_count": 378,
     "metadata": {},
     "output_type": "execute_result"
    }
   ],
   "source": [
    "# Downloaded from https://www.ssb.no/statbank/table/07459/tableViewLayout1/\n",
    "\n",
    "age = pd.read_csv('aldersfordeling.csv', sep='\\t', encoding=\"unicode_escape\")\n",
    "age = age.drop(columns='statistikkvariabel')\n",
    "\n",
    "\n",
    "komnumm = age['region'].str.split(' ', n=1, expand=True)\n",
    "komnumm.columns = ['id', 'name']\n",
    "\n",
    "age['id'] = komnumm['id'].str.lstrip('K-')\n",
    "age['name'] = komnumm['name']\n",
    "\n",
    "age = age.drop('region', axis=1)\n",
    "age_data = ['0-9', '10-19', '20-29', '30-39', '40-49', '50-59', '60-69', '70-79', '80-89', '90-99', '100+']\n",
    "age.columns = age_data + ['id', 'name']\n",
    "age[age_data] /= age[age_data].sum(axis=1)[:,None]\n",
    "\n",
    "age.head(5)"
   ]
  },
  {
   "cell_type": "code",
   "execution_count": 402,
   "metadata": {},
   "outputs": [
    {
     "data": {
      "text/plain": [
       "<matplotlib.legend.Legend at 0x279366393c8>"
      ]
     },
     "execution_count": 402,
     "metadata": {},
     "output_type": "execute_result"
    },
    {
     "data": {
      "image/png": "[encoded data removed]",
      "text/plain": [
       "<Figure size 432x288 with 1 Axes>"
      ]
     },
     "metadata": {
      "needs_background": "light"
     },
     "output_type": "display_data"
    }
   ],
   "source": [
    "focus = 'Oslo'\n",
    "\n",
    "X = age.drop(['name', 'id'], axis=1)\n",
    "\n",
    "age_pca = PCA(n_components=5).fit(X)\n",
    "X = age_pca.transform(X)\n",
    "\n",
    "near_age = NearestNeighbors(n_neighbors=5).fit(X)\n",
    "_, indices = near_age.kneighbors(X[age['name']==focus])\n",
    "\n",
    "nearest = age.iloc[indices[0]]\n",
    "nearest = nearest.set_index('name').T.drop('id')\n",
    "\n",
    "plt.plot(nearest.drop(columns=focus), alpha=.2, drawstyle='steps-mid')\n",
    "plt.plot(nearest[focus], c='r', drawstyle='steps-mid')\n",
    "\n",
    "plt.legend(nearest.drop(columns=focus).columns)"
   ]
  },
  {
   "cell_type": "code",
   "execution_count": 364,
   "metadata": {},
   "outputs": [
    {
     "data": {
      "text/plain": [
       "1.0"
      ]
     },
     "execution_count": 364,
     "metadata": {},
     "output_type": "execute_result"
    }
   ],
   "source": [
    "X = age.drop(['name', 'id'], axis=1)\n",
    "# X = X / X.sum(axis=1)\n",
    "\n",
    "X.shape\n",
    "pd.DataFrame(\n",
    "    np.array(X) / np.full(X.shape[0], 2)[:,None]\n",
    ")\n",
    "\n",
    "\n"
   ]
  },
  {
   "cell_type": "code",
   "execution_count": 375,
   "metadata": {},
   "outputs": [
    {
     "data": {
      "text/plain": [
       "['hello', 'this', 'is', 'two', 'columns']"
      ]
     },
     "execution_count": 375,
     "metadata": {},
     "output_type": "execute_result"
    }
   ],
   "source": []
  },
  {
   "cell_type": "code",
   "execution_count": null,
   "metadata": {},
   "outputs": [],
   "source": []
  }
 ],
 "metadata": {
  "kernelspec": {
   "display_name": "Python 3",
   "language": "python",
   "name": "python3"
  },
  "language_info": {
   "codemirror_mode": {
    "name": "ipython",
    "version": 3
   },
   "file_extension": ".py",
   "mimetype": "text/x-python",
   "name": "python",
   "nbconvert_exporter": "python",
   "pygments_lexer": "ipython3",
   "version": "3.7.3"
  }
 },
 "nbformat": 4,
 "nbformat_minor": 2
}
